{
 "cells": [
  {
   "cell_type": "markdown",
   "id": "aca0353b",
   "metadata": {
    "id": "aca0353b"
   },
   "source": [
    "# Домашнее задание 3. Парсинг, Git и тестирование на Python\n",
    "\n",
    "**Цели задания:**\n",
    "\n",
    "* Освоить базовые подходы к web-scraping с библиотеками `requests` и `BeautisulSoup`: навигация по страницам, извлечение HTML-элементов, парсинг.\n",
    "* Научиться автоматизировать задачи с использованием библиотеки `schedule`.\n",
    "* Попрактиковаться в использовании Git и оформлении проектов на GitHub.\n",
    "* Написать и запустить простые юнит-тесты с использованием `pytest`.\n",
    "\n",
    "\n",
    "В этом домашнем задании вы разработаете систему для автоматического сбора данных о книгах с сайта [Books to Scrape](http://books.toscrape.com). Нужно реализовать функции для парсинга всех страниц сайта, извлечения информации о книгах, автоматического ежедневного запуска задачи и сохранения результата.\n",
    "\n",
    "Важной частью задания станет оформление проекта: вы создадите репозиторий на GitHub, оформите `README.md`, добавите артефакты (код, данные, отчеты) и напишете базовые тесты на `pytest`.\n",
    "\n"
   ]
  },
  {
   "cell_type": "code",
   "execution_count": 13,
   "id": "K3JMV0qwmA_q",
   "metadata": {
    "id": "K3JMV0qwmA_q"
   },
   "outputs": [
    {
     "name": "stdout",
     "output_type": "stream",
     "text": [
      "Requirement already satisfied: pytest in c:\\users\\artem\\anaconda3\\lib\\site-packages (7.4.4)\n",
      "Requirement already satisfied: iniconfig in c:\\users\\artem\\anaconda3\\lib\\site-packages (from pytest) (1.1.1)\n",
      "Requirement already satisfied: packaging in c:\\users\\artem\\anaconda3\\lib\\site-packages (from pytest) (24.1)\n",
      "Requirement already satisfied: pluggy<2.0,>=0.12 in c:\\users\\artem\\anaconda3\\lib\\site-packages (from pytest) (1.0.0)\n",
      "Requirement already satisfied: colorama in c:\\users\\artem\\anaconda3\\lib\\site-packages (from pytest) (0.4.6)\n"
     ]
    }
   ],
   "source": [
    "! pip install -q schedule pytest # установка библиотек, если ещё не"
   ]
  },
  {
   "cell_type": "code",
   "execution_count": 1,
   "id": "873d4904",
   "metadata": {
    "id": "873d4904"
   },
   "outputs": [],
   "source": [
    "# Библиотеки, которые могут вам понадобиться\n",
    "# При необходимости расширяйте список\n",
    "import time\n",
    "import requests\n",
    "import schedule\n",
    "from bs4 import BeautifulSoup\n"
   ]
  },
  {
   "cell_type": "markdown",
   "id": "unTvsWaegHdj",
   "metadata": {
    "id": "unTvsWaegHdj"
   },
   "source": [
    "## Задание 1. Сбор данных об одной книге (20 баллов)\n",
    "\n",
    "В этом задании мы начнем подготовку скрипта для парсинга информации о книгах со страниц каталога сайта [Books to Scrape](https://books.toscrape.com/).\n",
    "\n",
    "Для начала реализуйте функцию `get_book_data`, которая будет получать данные о книге с одной страницы (например, с [этой](http://books.toscrape.com/catalogue/a-light-in-the-attic_1000/index.html)). Соберите всю информацию, включая название, цену, рейтинг, количество в наличии, описание и дополнительные характеристики из таблицы Product Information. Результат достаточно вернуть в виде словаря.\n",
    "\n",
    "**Не забывайте про соблюдение PEP-8** — помимо качественно написанного кода важно также документировать функции по стандарту:\n",
    "* кратко описать, что она делает и для чего нужна;\n",
    "* какие входные аргументы принимает, какого они типа и что означают по смыслу;\n",
    "* аналогично описать возвращаемые значения.\n",
    "\n",
    "*P. S. Состав, количество аргументов функции и тип возвращаемого значения можете менять как вам удобно. То, что написано ниже в шаблоне — лишь пример.*"
   ]
  },
  {
   "cell_type": "code",
   "execution_count": 12,
   "id": "UfD2vAjHkEoS",
   "metadata": {
    "id": "UfD2vAjHkEoS"
   },
   "outputs": [],
   "source": [
    " def get_book_data(book_url: str) -> dict:\n",
    "    \"\"\"\n",
    "    Парсит данные о книге с указанной страницы сайта Books to Scrape.\n",
    "    \n",
    "    Функция получает HTML-страницу книги, извлекает основную информацию о книге\n",
    "    (название, цена, рейтинг, наличие, описание) и дополнительные характеристики\n",
    "    из таблицы Product Information.\n",
    "\n",
    "    Args:\n",
    "        book_url (str): URL-адрес страницы книги для парсинга\n",
    "        \n",
    "    \"\"\"\n",
    "\n",
    "    # НАЧАЛО ВАШЕГО РЕШЕНИЯ\n",
    "    try:\n",
    "        # Отправляем запрос к странице книги\n",
    "        response = requests.get(book_url, timeout = 5)\n",
    "        response.raise_for_status()  # Проверяем успешность запроса\n",
    "        \n",
    "        # Создаем объект BeautifulSoup для парсинга\n",
    "        soup = BeautifulSoup(response.content, 'html.parser')\n",
    "        \n",
    "        # Словарь для хранения данных о книге\n",
    "        book_data = {}\n",
    "        \n",
    "        # 1. Название книги\n",
    "        title_element = soup.find('h1')\n",
    "        book_data['title'] = title_element.text.strip() if title_element else 'N/A'\n",
    "        \n",
    "        # 2. Цена\n",
    "        price_element = soup.find('p', class_='price_color')\n",
    "        book_data['price'] = price_element.text.strip() if price_element else 'N/A'\n",
    "        \n",
    "        # 3. Рейтинг\n",
    "        rating_element = soup.find('p', class_='star-rating')\n",
    "        if rating_element:\n",
    "            rating_classes = rating_element.get('class', [])\n",
    "            # Ищем класс, соответствующий рейтингу (One, Two, Three, Four, Five)\n",
    "            rating = next((cls for cls in rating_classes if cls in ['One', 'Two', 'Three', 'Four', 'Five']), 'N/A')\n",
    "            book_data['rating'] = rating\n",
    "        else:\n",
    "            book_data['rating'] = 'N/A'\n",
    "        \n",
    "        # 4. Наличие и количество\n",
    "        stock_element = soup.find('p', class_='instock availability')\n",
    "        book_data['stock'] = stock_element.text.strip() if stock_element else 'N/A'\n",
    "        \n",
    "        # 5. Описание\n",
    "        description_element = soup.find('div', id='product_description')\n",
    "        if description_element:\n",
    "            # Описание находится в следующем sibling элементе\n",
    "            description = description_element.find_next_sibling('p')\n",
    "            book_data['description'] = description.text.strip() if description else 'N/A'\n",
    "        else:\n",
    "            book_data['description'] = 'N/A'\n",
    "        \n",
    "        # 6. Дополнительные характеристики из таблицы Product Information\n",
    "        product_table = soup.find('table', class_='table table-striped')\n",
    "        if product_table:\n",
    "            rows = product_table.find_all('tr')\n",
    "            for row in rows:\n",
    "                header = row.find('th')\n",
    "                value = row.find('td')\n",
    "                if header and value:\n",
    "                    key = header.text.strip().lower().replace(' ', '_')\n",
    "                    book_data[key] = value.text.strip()\n",
    "        \n",
    "        return book_data\n",
    "        \n",
    "    except requests.RequestException as e:\n",
    "        print(f\"Ошибка при запросе к {book_url}: {e}\")\n",
    "        return None\n",
    "    except Exception as e:\n",
    "        print(f\"Ошибка при парсинге данных: {e}\")\n",
    "        return None\n",
    "    # КОНЕЦ ВАШЕГО РЕШЕНИЯ"
   ]
  },
  {
   "cell_type": "code",
   "execution_count": null,
   "id": "4a71812b-42a6-4d7a-a311-b407950c3768",
   "metadata": {},
   "outputs": [],
   "source": []
  },
  {
   "cell_type": "code",
   "execution_count": 6,
   "id": "moRSO9Itp1LT",
   "metadata": {
    "id": "moRSO9Itp1LT"
   },
   "outputs": [
    {
     "data": {
      "text/plain": [
       "{'title': 'A Light in the Attic',\n",
       " 'price': '£51.77',\n",
       " 'rating': 'Three',\n",
       " 'stock': 'In stock (22 available)',\n",
       " 'description': \"It's hard to imagine a world without A Light in the Attic. This now-classic collection of poetry and drawings from Shel Silverstein celebrates its 20th anniversary with this special edition. Silverstein's humorous and creative verse can amuse the dowdiest of readers. Lemon-faced adults and fidgety kids sit still and read these rhythmic words and laugh and smile and love th It's hard to imagine a world without A Light in the Attic. This now-classic collection of poetry and drawings from Shel Silverstein celebrates its 20th anniversary with this special edition. Silverstein's humorous and creative verse can amuse the dowdiest of readers. Lemon-faced adults and fidgety kids sit still and read these rhythmic words and laugh and smile and love that Silverstein. Need proof of his genius? RockabyeRockabye baby, in the treetopDon't you know a treetopIs no safe place to rock?And who put you up there,And your cradle, too?Baby, I think someone down here'sGot it in for you. Shel, you never sounded so good. ...more\",\n",
       " 'upc': 'a897fe39b1053632',\n",
       " 'product_type': 'Books',\n",
       " 'price_(excl._tax)': '£51.77',\n",
       " 'price_(incl._tax)': '£51.77',\n",
       " 'tax': '£0.00',\n",
       " 'availability': 'In stock (22 available)',\n",
       " 'number_of_reviews': '0'}"
      ]
     },
     "execution_count": 6,
     "metadata": {},
     "output_type": "execute_result"
    }
   ],
   "source": [
    "# Используйте для самопроверки\n",
    "book_url = 'http://books.toscrape.com/catalogue/a-light-in-the-attic_1000/index.html'\n",
    "get_book_data(book_url)"
   ]
  },
  {
   "cell_type": "markdown",
   "id": "u601Q4evosq6",
   "metadata": {
    "id": "u601Q4evosq6"
   },
   "source": [
    "## Задание 2. Сбор данных обо всех книгах (20 баллов)\n",
    "\n",
    "Создайте функцию `scrape_books`, которая будет проходиться по всем страницам из каталога (вида `http://books.toscrape.com/catalogue/page-{N}.html`) и осуществлять парсинг всех страниц в цикле, используя ранее написанную `get_book_data`.\n",
    "\n",
    "Добавьте аргумент-флаг, который будет отвечать за сохранение результата в файл: если он будет равен `True`, то информация сохранится в ту же папку в файл `books_data.txt`; иначе шаг сохранения будет пропущен.\n",
    "\n",
    "**Также не забывайте про соблюдение PEP-8**"
   ]
  },
  {
   "cell_type": "code",
   "execution_count": 16,
   "id": "kk78l6oDkdxl",
   "metadata": {
    "id": "kk78l6oDkdxl"
   },
   "outputs": [],
   "source": [
    "def scrape_books(is_save=False) -> list:\n",
    "    \"\"\"\n",
    "    Проходит по всем страницам каталога Books to Scrape и парсит данные о книгах.\n",
    "\n",
    "    Использует функцию get_book_data для получения информации о каждой книге.\n",
    "    При необходимости сохраняет результат в файл books_data.txt.\n",
    "\n",
    "    Args:\n",
    "        save_to_file (bool): Если True, сохраняет результаты в файл books_data.txt.\n",
    "        \n",
    "    \"\"\"\n",
    "\n",
    "    # НАЧАЛО ВАШЕГО РЕШЕНИЯ\n",
    "    base_url = \"http://books.toscrape.com/catalogue/page-{}.html\"\n",
    "    books_data = []\n",
    "    page_number = 1\n",
    "\n",
    "    while True:\n",
    "        url = base_url.format(page_number)\n",
    "        response = requests.get(url)\n",
    "\n",
    "        # Если страница не найдена — значит, книги закончились\n",
    "        if response.status_code == 404:\n",
    "            break\n",
    "\n",
    "        print(f\"Обрабатываю страницу {page_number}...\")\n",
    "\n",
    "        soup = BeautifulSoup(response.content, \"html.parser\")\n",
    "        book_links = soup.select(\"h3 > a\")\n",
    "\n",
    "        if not book_links:\n",
    "            break\n",
    "\n",
    "        # Проходим по всем книгам на странице\n",
    "        for link in book_links:\n",
    "            relative_url = link.get(\"href\")\n",
    "            book_url = \"http://books.toscrape.com/catalogue/\" + relative_url.replace(\"../\", \"\")\n",
    "            book_data = get_book_data(book_url)\n",
    "\n",
    "            if book_data:\n",
    "                books_data.append(book_data)\n",
    "\n",
    "            time.sleep(1)\n",
    "\n",
    "        page_number += 1\n",
    "\n",
    "    # Сохранение в файл, если флаг установлен\n",
    "    if is_save:\n",
    "        try:\n",
    "            with open(\"books_data.txt\", \"w\", encoding=\"utf-8\") as file:\n",
    "                for book in books_data:\n",
    "                    file.write(str(book) + \"\\n\")\n",
    "            print(\"Данные успешно сохранены в books_data.txt\")\n",
    "        except Exception as e:\n",
    "            print(f\"Ошибка при сохранении файла: {e}\")\n",
    "\n",
    "    print(f\"Всего собрано книг: {len(books_data)}\")\n",
    "    return books_data\n",
    "    # КОНЕЦ ВАШЕГО РЕШЕНИЯ"
   ]
  },
  {
   "cell_type": "code",
   "execution_count": 18,
   "id": "Bt7mrXcbkj5Q",
   "metadata": {
    "id": "Bt7mrXcbkj5Q",
    "scrolled": true
   },
   "outputs": [
    {
     "name": "stdout",
     "output_type": "stream",
     "text": [
      "Обрабатываю страницу 1...\n",
      "Обрабатываю страницу 2...\n",
      "Обрабатываю страницу 3...\n",
      "Обрабатываю страницу 4...\n",
      "Обрабатываю страницу 5...\n",
      "Обрабатываю страницу 6...\n",
      "Обрабатываю страницу 7...\n",
      "Обрабатываю страницу 8...\n",
      "Обрабатываю страницу 9...\n",
      "Обрабатываю страницу 10...\n",
      "Обрабатываю страницу 11...\n",
      "Обрабатываю страницу 12...\n",
      "Обрабатываю страницу 13...\n",
      "Обрабатываю страницу 14...\n",
      "Обрабатываю страницу 15...\n",
      "Обрабатываю страницу 16...\n",
      "Обрабатываю страницу 17...\n",
      "Обрабатываю страницу 18...\n",
      "Обрабатываю страницу 19...\n",
      "Обрабатываю страницу 20...\n",
      "Обрабатываю страницу 21...\n",
      "Обрабатываю страницу 22...\n",
      "Обрабатываю страницу 23...\n",
      "Обрабатываю страницу 24...\n",
      "Обрабатываю страницу 25...\n",
      "Обрабатываю страницу 26...\n",
      "Обрабатываю страницу 27...\n",
      "Обрабатываю страницу 28...\n",
      "Обрабатываю страницу 29...\n",
      "Обрабатываю страницу 30...\n",
      "Обрабатываю страницу 31...\n",
      "Обрабатываю страницу 32...\n",
      "Обрабатываю страницу 33...\n",
      "Обрабатываю страницу 34...\n",
      "Обрабатываю страницу 35...\n",
      "Обрабатываю страницу 36...\n",
      "Обрабатываю страницу 37...\n",
      "Обрабатываю страницу 38...\n",
      "Обрабатываю страницу 39...\n",
      "Обрабатываю страницу 40...\n",
      "Обрабатываю страницу 41...\n",
      "Обрабатываю страницу 42...\n",
      "Обрабатываю страницу 43...\n",
      "Обрабатываю страницу 44...\n",
      "Обрабатываю страницу 45...\n",
      "Обрабатываю страницу 46...\n",
      "Обрабатываю страницу 47...\n",
      "Обрабатываю страницу 48...\n",
      "Обрабатываю страницу 49...\n",
      "Обрабатываю страницу 50...\n",
      "Данные успешно сохранены в books_data.txt\n",
      "Всего собрано книг: 1000\n",
      "<class 'list'> 1000\n"
     ]
    }
   ],
   "source": [
    "# Проверка работоспособности функции\n",
    "res = scrape_books(is_save=True) # Допишите ваши аргументы\n",
    "print(type(res), len(res)) # и проверки"
   ]
  },
  {
   "cell_type": "markdown",
   "id": "z5fd728nl8a8",
   "metadata": {
    "id": "z5fd728nl8a8"
   },
   "source": [
    "## Задание 3. Настройка регулярной выгрузки (10 баллов)\n",
    "\n",
    "Настройте автоматический запуск функции сбора данных каждый день в 19:00.\n",
    "Для автоматизации используйте библиотеку `schedule`. Функция должна запускаться в указанное время и сохранять обновленные данные в текстовый файл.\n",
    "\n",
    "\n",
    "\n",
    "Бесконечный цикл должен обеспечивать постоянное ожидание времени для запуска задачи и выполнять ее по расписанию. Однако чтобы не перегружать систему, стоит подумать о том, чтобы выполнять проверку нужного времени не постоянно, а раз в какой-то промежуток. В этом вам может помочь `time.sleep(...)`.\n",
    "\n",
    "Проверьте работоспособность кода локально на любом времени чч:мм.\n",
    "\n"
   ]
  },
  {
   "cell_type": "code",
   "execution_count": null,
   "id": "SajRRCj4n8BZ",
   "metadata": {
    "id": "SajRRCj4n8BZ"
   },
   "outputs": [],
   "source": [
    "# НАЧАЛО ВАШЕГО РЕШЕНИЯ\n",
    "def job_with_save():\n",
    "    \"\"\"\n",
    "    Функция-обертка, которая вызывает парсер\n",
    "    с флагом is_save=True.\n",
    "    \"\"\"\n",
    "    print(\"--------------------\")\n",
    "    print(f\"[{time.ctime()}] Запускаю плановый парсинг...\")\n",
    "    try:\n",
    "        scrape_books(is_save=True)\n",
    "        print(f\"[{time.ctime()}] Парсинг успешно завершен.\")\n",
    "    except Exception as e:\n",
    "        print(f\"[{time.ctime()}] Ошибка во время парсинга: {e}\")\n",
    "    print(\"--------------------\")\n",
    "\n",
    "schedule.clear()\n",
    "\n",
    "schedule.every().day.at(\"19:00\").do(job_with_save)\n",
    "\n",
    "print(f\"[{time.ctime()}] Планировщик запущен.\")\n",
    "print(\"Ожидаю времени для запуска задачи...\")\n",
    "\n",
    "try:\n",
    "    while True:\n",
    "        schedule.run_pending()\n",
    "        now = time.localtime()\n",
    "        if now.tm_hour == 18 and now.tm_min >= 55:\n",
    "            time.sleep(10)\n",
    "        elif now.tm_hour == 18 and now.tm_min < 55:\n",
    "            time.sleep(300)\n",
    "        else:\n",
    "            time.sleep(3600)\n",
    "except KeyboardInterrupt:\n",
    "    print(f\"\\n[{time.ctime()}] Планировщик остановлен вручную.\")\n",
    "            \n",
    "# КОНЕЦ ВАШЕГО РЕШЕНИЯ"
   ]
  },
  {
   "cell_type": "markdown",
   "id": "XFiPtEyaoLxq",
   "metadata": {
    "id": "XFiPtEyaoLxq"
   },
   "source": [
    "## Задание 4. Написание автотестов (15 баллов)\n",
    "\n",
    "Создайте минимум три автотеста для ключевых функций парсинга — например, `get_book_data` и `scrape_books`. Идеи проверок (можете использовать свои):\n",
    "\n",
    "* данные о книге возвращаются в виде словаря с нужными ключами;\n",
    "* список ссылок или количество собранных книг соответствует ожиданиям;\n",
    "* значения отдельных полей (например, `title`) корректны.\n",
    "\n",
    "Оформите тесты в отдельном скрипте `tests/test_scraper.py`, используйте библиотеку `pytest`. Убедитесь, что тесты проходят успешно при запуске из терминала командой `pytest`.\n",
    "\n",
    "Также выведите результат их выполнения в ячейке ниже.\n",
    "\n",
    "**Не забывайте про соблюдение PEP-8**\n"
   ]
  },
  {
   "cell_type": "code",
   "execution_count": 27,
   "id": "lBFAw4b3z8QY",
   "metadata": {
    "id": "lBFAw4b3z8QY"
   },
   "outputs": [
    {
     "name": "stdout",
     "output_type": "stream",
     "text": [
      "\u001b[1m============================= test session starts =============================\u001b[0m\n",
      "platform win32 -- Python 3.12.7, pytest-7.4.4, pluggy-1.0.0 -- C:\\Users\\Artem\\anaconda3\\python.exe\n",
      "cachedir: .pytest_cache\n",
      "rootdir: D:\\\\\\u041c\\u0424\\u0422\\u0418 \\u043c\\u0430\\u0433\\u0438\\u0441\\u0442\\u0440\\u0430\\u0442\\u0443\\u0440\\u0430\\\\\\u0414\\u0438\\u0441\\u0446\\u0438\\u043f\\u043b\\u0438\\u043d\\u044b\\\\\\u041f\\u0440\\u043e\\u0433\\u0440\\u0430\\u043c\\u043c\\u0438\\u0440\\u043e\\u0432\\u0430\\u043d\\u0438\\u0435 \\u043d\\u0430 Python\n",
      "configfile: pytest.ini\n",
      "plugins: anyio-4.2.0\n",
      "\u001b[1mcollecting ... \u001b[0mcollected 3 items\n",
      "\n",
      "tests/test_scraper.py::test_scrape_books_mocked \u001b[32mPASSED\u001b[0m\u001b[32m                   [ 33%]\u001b[0m\n",
      "tests/test_scraper.py::test_get_book_data_success \u001b[32mPASSED\u001b[0m\u001b[32m                 [ 66%]\u001b[0m\n",
      "tests/test_scraper.py::test_get_book_data_network_failure \u001b[32mPASSED\u001b[0m\u001b[32m         [100%]\u001b[0m\n",
      "\n",
      "\u001b[32m============================== \u001b[32m\u001b[1m3 passed\u001b[0m\u001b[32m in 2.26s\u001b[0m\u001b[32m ==============================\u001b[0m\n"
     ]
    }
   ],
   "source": [
    "# Ячейка для демонстрации работоспособности\n",
    "# Сам код напишите в отдельном скрипте\n",
    "! pytest tests/test_scraper.py"
   ]
  },
  {
   "cell_type": "markdown",
   "id": "cRSQlHfRtOdN",
   "metadata": {
    "id": "cRSQlHfRtOdN"
   },
   "source": [
    "## Задание 5. Оформление проекта на GitHub и работа с Git (35 баллов)\n",
    "\n",
    "В этом задании нужно воспользоваться системой контроля версий Git и платформой GitHub для хранения и управления своим проектом. **Ссылку на свой репозиторий пришлите в форме для сдачи ответа.**\n",
    "\n",
    "### Пошаговая инструкция и задания\n",
    "\n",
    "**1. Установите Git на свой компьютер.**\n",
    "\n",
    "* Для Windows: [скачайте установщик](https://git-scm.com/downloads) и выполните установку.\n",
    "* Для macOS:\n",
    "\n",
    "  ```\n",
    "  brew install git\n",
    "  ```\n",
    "* Для Linux:\n",
    "\n",
    "  ```\n",
    "  sudo apt update\n",
    "  sudo apt install git\n",
    "  ```\n",
    "\n",
    "**2. Настройте имя пользователя и email.**\n",
    "\n",
    "Это нужно для подписи ваших коммитов, сделайте в терминале через `git config ...`.\n",
    "\n",
    "**3. Создайте аккаунт на GitHub**, если у вас его еще нет:\n",
    "[https://github.com](https://github.com)\n",
    "\n",
    "**4. Создайте новый репозиторий на GitHub:**\n",
    "\n",
    "* Найдите кнопку **New repository**.\n",
    "* Укажите название, краткое описание, выберите тип **Public** (чтобы мы могли проверить ДЗ).\n",
    "* Не ставьте галочку Initialize this repository with a README.\n",
    "\n",
    "**5. Создайте локальную папку с проектом.** Можно в терминале, можно через UI, это не имеет значения.\n",
    "\n",
    "**6. Инициализируйте Git в этой папке.** Здесь уже придется воспользоваться некоторой командой в терминале.\n",
    "\n",
    "**7. Привяжите локальный репозиторий к удаленному на GitHub.**\n",
    "\n",
    "**8. Создайте ветку разработки.** По умолчанию вы будете находиться в ветке `main`, создайте и переключитесь на ветку `hw-books-parser`.\n",
    "\n",
    "**9. Добавьте в проект следующие файлы и папки:**\n",
    "\n",
    "* `scraper.py` — ваш основной скрипт для сбора данных.\n",
    "* `README.md` — файл с кратким описанием проекта:\n",
    "\n",
    "  * цель;\n",
    "  * инструкции по запуску;\n",
    "  * список используемых библиотек.\n",
    "* `requirements.txt` — файл со списком зависимостей, необходимых для проекта (не присылайте все из глобального окружения, создайте изолированную виртуальную среду, добавьте в нее все нужное для проекта и получите список библиотек через `pip freeze`).\n",
    "* `artifacts/` — папка с результатами парсинга (`books_data.txt` — полностью или его часть, если весь не поместится на GitHub).\n",
    "* `notebooks/` — папка с заполненным ноутбуком `HW_03_python_ds_2025.ipynb` и запущенными ячейками с выводами на экран.\n",
    "* `tests/` — папка с тестами на `pytest`, оформите их в формате скрипта(-ов) с расширением `.py`.\n",
    "* `.gitignore` — стандартный файл, который позволит исключить временные файлы при добавлении в отслеживаемые (например, `__pycache__/`, `.DS_Store`, `*.pyc`, `venv/` и др.).\n",
    "\n",
    "\n",
    "**10. Сделайте коммит.**\n",
    "\n",
    "**11. Отправьте свою ветку на GitHub.**\n",
    "\n",
    "**12. Создайте Pull Request:**\n",
    "\n",
    "* Перейдите в репозиторий на GitHub.\n",
    "* Нажмите кнопку **Compare & pull request**.\n",
    "* Укажите, что было добавлено, и нажмите **Create pull request**.\n",
    "\n",
    "**13. Выполните слияние Pull Request:**\n",
    "\n",
    "* Убедитесь, что нет конфликтов.\n",
    "* Нажмите **Merge pull request**, затем **Confirm merge**.\n",
    "\n",
    "**14. Скачайте изменения из основной ветки локально.**\n",
    "\n",
    "\n",
    "\n",
    "### Требования к итоговому репозиторию\n",
    "\n",
    "* Файл `scraper.py` с рабочим кодом парсера.\n",
    "* `README.md` с описанием проекта и инструкцией по запуску.\n",
    "* Папка `artifacts/` с результатом сбора данных (`.txt` файл).\n",
    "* Папка `tests/` с тестами на `pytest`.\n",
    "* Папка `notebooks/` с заполненным ноутбуком `HW_03_python_ds_2025.ipynb`.\n",
    "* Pull Request с комментарием из ветки `hw-books-parser` в ветку `main`.\n",
    "* Примерная структура:\n",
    "\n",
    "  ```\n",
    "  books_scraper/\n",
    "  ├── artifacts/\n",
    "  │   └── books_data.txt\n",
    "  ├── notebooks/\n",
    "  │   └── HW_03_python_ds_2025.ipynb\n",
    "  ├── scraper.py\n",
    "  ├── README.md\n",
    "  ├── tests/\n",
    "  │   └── test_scraper.py\n",
    "  ├── .gitignore\n",
    "  └── requirements.txt\n",
    "  ```"
   ]
  },
  {
   "cell_type": "code",
   "execution_count": null,
   "id": "aaf5436c-f374-44a5-83db-beca395409b1",
   "metadata": {},
   "outputs": [],
   "source": []
  }
 ],
 "metadata": {
  "colab": {
   "provenance": []
  },
  "kernelspec": {
   "display_name": "Python 3 (ipykernel)",
   "language": "python",
   "name": "python3"
  },
  "language_info": {
   "codemirror_mode": {
    "name": "ipython",
    "version": 3
   },
   "file_extension": ".py",
   "mimetype": "text/x-python",
   "name": "python",
   "nbconvert_exporter": "python",
   "pygments_lexer": "ipython3",
   "version": "3.12.7"
  }
 },
 "nbformat": 4,
 "nbformat_minor": 5
}
